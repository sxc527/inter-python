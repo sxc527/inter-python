{
 "cells": [
  {
   "cell_type": "code",
   "execution_count": 29,
   "id": "5864e8b6",
   "metadata": {},
   "outputs": [],
   "source": [
    "from pprint import pprint\n",
    "from collections import Counter"
   ]
  },
  {
   "cell_type": "code",
   "execution_count": 24,
   "id": "40bed01d",
   "metadata": {},
   "outputs": [
    {
     "data": {
      "text/plain": [
       "[3, 4, 5, 6]"
      ]
     },
     "execution_count": 24,
     "metadata": {},
     "output_type": "execute_result"
    }
   ],
   "source": [
    "# lists\n",
    "\n",
    "t = [ 3,4,5,6 ]\n",
    "t"
   ]
  },
  {
   "cell_type": "code",
   "execution_count": 29,
   "id": "273ee501",
   "metadata": {},
   "outputs": [
    {
     "data": {
      "text/plain": [
       "([3, 4, 5, 6], 3, 6, 6)"
      ]
     },
     "execution_count": 29,
     "metadata": {},
     "output_type": "execute_result"
    }
   ],
   "source": [
    "t, t[0], t[len(t)-1], t[-1]"
   ]
  },
  {
   "cell_type": "code",
   "execution_count": null,
   "id": "c35e0f8e",
   "metadata": {},
   "outputs": [
    {
     "data": {
      "text/plain": [
       "(3,\n",
       " [],\n",
       " [3, 4],\n",
       " [3, 4, 5],\n",
       " [3, 4, 5, 6],\n",
       " [3, 4, 5, 6],\n",
       " [5, 6],\n",
       " [3, 4, 5, 6],\n",
       " [3, 5],\n",
       " [6, 5, 4, 3])"
      ]
     },
     "execution_count": 45,
     "metadata": {},
     "output_type": "execute_result"
    }
   ],
   "source": [
    "t[0],t[0:0],t[0:2],t[0:-1],t[0:],t[:],t[-2:],t[:],t[::2],t[::-1]"
   ]
  },
  {
   "cell_type": "code",
   "execution_count": 49,
   "id": "6131ae62",
   "metadata": {},
   "outputs": [
    {
     "data": {
      "text/plain": [
       "[1, 5, 3]"
      ]
     },
     "execution_count": 49,
     "metadata": {},
     "output_type": "execute_result"
    }
   ],
   "source": [
    "t=[1,2]\n",
    "t.append(3)\n",
    "t[1]=5\n",
    "t"
   ]
  },
  {
   "cell_type": "code",
   "execution_count": 56,
   "id": "1ebb78fb",
   "metadata": {},
   "outputs": [
    {
     "data": {
      "text/plain": [
       "((1, 2), [1, 2], (1, 2), (1, 2, 55))"
      ]
     },
     "execution_count": 56,
     "metadata": {},
     "output_type": "execute_result"
    }
   ],
   "source": [
    "# tuples are immutable\n",
    "\n",
    "q = (1,2)\n",
    "r = [1,2]\n",
    "z = list(q)\n",
    "z.append(55)\n",
    "q, list(q), tuple(r), tuple(z)"
   ]
  },
  {
   "cell_type": "code",
   "execution_count": 61,
   "id": "a9fc5b69",
   "metadata": {},
   "outputs": [
    {
     "data": {
      "text/plain": [
       "(4, 8)"
      ]
     },
     "execution_count": 61,
     "metadata": {},
     "output_type": "execute_result"
    }
   ],
   "source": [
    "def x(z):\n",
    "    return z,z*2\n",
    "a,b = x(4)\n",
    "a,b\n"
   ]
  },
  {
   "cell_type": "code",
   "execution_count": 67,
   "id": "febf8ec1",
   "metadata": {},
   "outputs": [
    {
     "data": {
      "text/plain": [
       "{1, 2, 3, 4}"
      ]
     },
     "execution_count": 67,
     "metadata": {},
     "output_type": "execute_result"
    }
   ],
   "source": [
    "s = {1,2,3}\n",
    "s.add(4)\n",
    "s.add(4)\n",
    "s"
   ]
  },
  {
   "cell_type": "code",
   "execution_count": 69,
   "id": "f62fa75f",
   "metadata": {},
   "outputs": [
    {
     "data": {
      "text/plain": [
       "[1, 2, 3, 5, 6, 7]"
      ]
     },
     "execution_count": 69,
     "metadata": {},
     "output_type": "execute_result"
    }
   ],
   "source": [
    "t = list(set([1,3,2,5,2,3,5,6,7,3,5,3]))\n",
    "t"
   ]
  },
  {
   "cell_type": "code",
   "execution_count": 70,
   "id": "04b95682",
   "metadata": {},
   "outputs": [
    {
     "data": {
      "text/plain": [
       "{'name': 'dorothy', 'age': 11, 'color': 'white', 'food': 'dog food'}"
      ]
     },
     "execution_count": 70,
     "metadata": {},
     "output_type": "execute_result"
    }
   ],
   "source": [
    "pet = {\"name\":\"dorothy\",\"age\":11,\"color\":\"white\",\"food\":\"dog food\"}\n",
    "pet"
   ]
  },
  {
   "cell_type": "code",
   "execution_count": 72,
   "id": "d37c4f16",
   "metadata": {},
   "outputs": [
    {
     "data": {
      "text/plain": [
       "{'name': 'dorothy',\n",
       " 'age': 11,\n",
       " 'color': 'white',\n",
       " 'food': 'dog food',\n",
       " 'fav numbers': [3, 4, 2, 1]}"
      ]
     },
     "execution_count": 72,
     "metadata": {},
     "output_type": "execute_result"
    }
   ],
   "source": [
    "pet[\"fav numbers\"]=[3,4,2,1]\n",
    "pet"
   ]
  },
  {
   "cell_type": "code",
   "execution_count": null,
   "id": "a6ca5c58",
   "metadata": {},
   "outputs": [
    {
     "data": {
      "text/plain": [
       "[1, 2, 3, 5, 6, 7, 9, 1, 2, 3, 5, 6, 7, 9]"
      ]
     },
     "execution_count": 4,
     "metadata": {},
     "output_type": "execute_result"
    }
   ],
   "source": [
    "t = [1,2,3,5,6,7,9]"
   ]
  },
  {
   "cell_type": "code",
   "execution_count": 13,
   "id": "49491b46",
   "metadata": {},
   "outputs": [
    {
     "data": {
      "text/plain": [
       "([2, 4, 6, 10, 12, 14, 18], [6, 7, 9], [6, 10, 12, 14, 18])"
      ]
     },
     "execution_count": 13,
     "metadata": {},
     "output_type": "execute_result"
    }
   ],
   "source": [
    "t = [1,2,3,5,6,7,9]\n",
    "x = [ item*2 for item in t ] \n",
    "z = [ item for item in t if item > 5 ]\n",
    "y = [ item for item in [ item*2 for item in t ] if item > 5 ] # for demo purposes\n",
    "x, z, y "
   ]
  },
  {
   "cell_type": "code",
   "execution_count": 16,
   "id": "21673ccd",
   "metadata": {},
   "outputs": [
    {
     "data": {
      "text/plain": [
       "{'###1': 2,\n",
       " '###2': 4,\n",
       " '###3': 6,\n",
       " '###5': 10,\n",
       " '###6': 12,\n",
       " '###7': 14,\n",
       " '###9': 18}"
      ]
     },
     "execution_count": 16,
     "metadata": {},
     "output_type": "execute_result"
    }
   ],
   "source": [
    "t = [1,2,3,5,6,7,9]\n",
    "{\"###\"+str(item):item*2 for item in t}"
   ]
  },
  {
   "cell_type": "code",
   "execution_count": 18,
   "id": "0d90ba06",
   "metadata": {},
   "outputs": [
    {
     "data": {
      "text/plain": [
       "{1: 1, 2: 4, 3: 9, 5: 25, 6: 36, 7: 49, 9: 81}"
      ]
     },
     "execution_count": 18,
     "metadata": {},
     "output_type": "execute_result"
    }
   ],
   "source": [
    "squares = {item:item*item for item in t}\n",
    "squares"
   ]
  },
  {
   "cell_type": "code",
   "execution_count": 20,
   "id": "1ed75d2d",
   "metadata": {},
   "outputs": [
    {
     "data": {
      "text/plain": [
       "(1, 0)"
      ]
     },
     "execution_count": 20,
     "metadata": {},
     "output_type": "execute_result"
    }
   ],
   "source": [
    "x = [4,16,36,64,100]  # <-- squares of even numbers in the set 1...10\n",
    "\n",
    "3 % 2, 4 % 2"
   ]
  },
  {
   "cell_type": "code",
   "execution_count": null,
   "id": "e1cace71",
   "metadata": {},
   "outputs": [
    {
     "name": "stdout",
     "output_type": "stream",
     "text": [
      "[[62, 34, 31, 13, 9, 8, 5, 4]]\n"
     ]
    }
   ],
   "source": [
    "t = [13,4,34,62,31,5,9,8]\n",
    "x = sorted(t, reverse=True)\n",
    "\n",
    "print([x])"
   ]
  },
  {
   "cell_type": "code",
   "execution_count": 25,
   "id": "3a0580ab",
   "metadata": {},
   "outputs": [
    {
     "name": "stdout",
     "output_type": "stream",
     "text": [
      "[('Bob', 92), ('Charlie', 88), ('Alice', 85)]\n"
     ]
    }
   ],
   "source": [
    "scores = {'Alice': 85, 'Bob': 92, 'Charlie': 88}\n",
    "sorted_scores = sorted(scores.items(), key=lambda item: item[1], reverse=True)\n",
    "print(sorted_scores)\n",
    "\n"
   ]
  },
  {
   "cell_type": "code",
   "execution_count": 26,
   "id": "148b6703",
   "metadata": {},
   "outputs": [
    {
     "name": "stdout",
     "output_type": "stream",
     "text": [
      "8\n"
     ]
    }
   ],
   "source": [
    "x = lambda z: z*2\n",
    "print(x(4))"
   ]
  },
  {
   "cell_type": "code",
   "execution_count": 27,
   "id": "75dbc8dd",
   "metadata": {},
   "outputs": [
    {
     "name": "stdout",
     "output_type": "stream",
     "text": [
      "4\n"
     ]
    }
   ],
   "source": [
    "print((lambda z: z*2)(2))"
   ]
  },
  {
   "cell_type": "code",
   "execution_count": 30,
   "id": "784e8e10",
   "metadata": {},
   "outputs": [
    {
     "name": "stdout",
     "output_type": "stream",
     "text": [
      "Counter({'banana': 3, 'apple': 2, 'orange': 1})\n"
     ]
    }
   ],
   "source": [
    "things = ['apple', 'banana', 'apple', 'orange', 'banana', 'banana']\n",
    "counter = Counter(things)\n",
    "print(counter)"
   ]
  },
  {
   "cell_type": "code",
   "execution_count": 31,
   "id": "66f79408",
   "metadata": {},
   "outputs": [
    {
     "name": "stdout",
     "output_type": "stream",
     "text": [
      "[('Alice', 25), ('Bob', 30), ('Charlie', 35)]\n"
     ]
    }
   ],
   "source": [
    "names = ['Alice', 'Bob', 'Charlie']\n",
    "ages = [25, 30, 35]\n",
    "combined = list(zip(names, ages))\n",
    "print(combined) "
   ]
  },
  {
   "cell_type": "code",
   "execution_count": 33,
   "id": "b588881a",
   "metadata": {},
   "outputs": [
    {
     "name": "stdout",
     "output_type": "stream",
     "text": [
      "{'Alice': 25, 'Bob': 30, 'Charlie': 35}\n"
     ]
    }
   ],
   "source": [
    "data = {name:score for name, score in zip(names, ages)}\n",
    "print(data)"
   ]
  },
  {
   "cell_type": "code",
   "execution_count": null,
   "id": "331e15b4",
   "metadata": {},
   "outputs": [
    {
     "name": "stdout",
     "output_type": "stream",
     "text": [
      "[1, 2, 3, 4, 5, 6, 7, 8, 9]\n"
     ]
    }
   ],
   "source": [
    "nested_collection = [\n",
    "    [1, 2, 3],\n",
    "    [4, 5, 6],\n",
    "    [7, 8, 9]\n",
    "]\n",
    "flattened = [item for sublist in nested_collection for item in sublist]\n",
    "print(flattened)"
   ]
  },
  {
   "cell_type": "code",
   "execution_count": 36,
   "id": "12e64ec7",
   "metadata": {},
   "outputs": [
    {
     "data": {
      "text/plain": [
       "[[1, 2, 3], [4, 5, 6], [7, 8, 9]]"
      ]
     },
     "execution_count": 36,
     "metadata": {},
     "output_type": "execute_result"
    }
   ],
   "source": [
    "[[item for item in row] for row in nested_collection]\n"
   ]
  },
  {
   "cell_type": "code",
   "execution_count": null,
   "id": "fc0ba6ae",
   "metadata": {},
   "outputs": [],
   "source": [
    "{outer_key: {inner_key: inner_value for inner_key, inner_value in inner_dict.items()} for outer_key, inner_dict in outer_dict.items()}"
   ]
  },
  {
   "cell_type": "code",
   "execution_count": 39,
   "id": "638f67ea",
   "metadata": {},
   "outputs": [
    {
     "name": "stdout",
     "output_type": "stream",
     "text": [
      "{'Alice': {'science': 97}, 'Bob': {}, 'Charlie': {'math': 98, 'chemistry': 95}}\n"
     ]
    }
   ],
   "source": [
    "students = {\n",
    "    \"Alice\": {\"math\": 85, \"science\": 92},\n",
    "    \"Bob\": {\"math\": 78, \"science\": 81},\n",
    "    \"Charlie\": {\"math\": 93, \"science\": 87, \"chemistry\": 90}\n",
    "}\n",
    "\n",
    "curved = {\n",
    "    student: {subject: grade + 5 for subject, grade in subjects.items() if grade >= 90}\n",
    "    for student, subjects in students.items() # if \"chemistry\" in subjects\n",
    "}\n",
    "\n",
    "print(curved)"
   ]
  }
 ],
 "metadata": {
  "kernelspec": {
   "display_name": "Python 3",
   "language": "python",
   "name": "python3"
  },
  "language_info": {
   "codemirror_mode": {
    "name": "ipython",
    "version": 3
   },
   "file_extension": ".py",
   "mimetype": "text/x-python",
   "name": "python",
   "nbconvert_exporter": "python",
   "pygments_lexer": "ipython3",
   "version": "3.12.1"
  }
 },
 "nbformat": 4,
 "nbformat_minor": 5
}
