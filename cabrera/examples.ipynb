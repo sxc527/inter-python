{
 "cells": [
  {
   "cell_type": "code",
   "execution_count": null,
   "id": "011ecaf9",
   "metadata": {},
   "outputs": [],
   "source": [
    "from pprint import pprint"
   ]
  },
  {
   "cell_type": "code",
   "execution_count": null,
   "id": "e29893ba",
   "metadata": {},
   "outputs": [
    {
     "name": "stdout",
     "output_type": "stream",
     "text": [
      "['apple', 'banana', 'cherry']\n"
     ]
    }
   ],
   "source": [
    "# lists\n",
    "fruits = ['apple', 'banana', 'cherry']\n",
    "pprint(fruits)\n"
   ]
  },
  {
   "cell_type": "code",
   "execution_count": null,
   "id": "f0439f0b",
   "metadata": {},
   "outputs": [
    {
     "name": "stdout",
     "output_type": "stream",
     "text": [
      "['apple', 'banana']\n",
      "['apple', 'banana']\n",
      "['apple', 'banana', 'cherry']\n"
     ]
    }
   ],
   "source": [
    "print(fruits[0:2]) # Output: ['apple', 'banana']\n",
    "print(fruits[0:-1]) # Output: ['apple', 'banana']\n",
    "print(fruits[0:]) # Output: ['apple', 'banana', 'cherry']"
   ]
  },
  {
   "cell_type": "code",
   "execution_count": 22,
   "id": "33ffd144",
   "metadata": {},
   "outputs": [
    {
     "data": {
      "text/plain": [
       "[1, 5, 3]"
      ]
     },
     "execution_count": 22,
     "metadata": {},
     "output_type": "execute_result"
    }
   ],
   "source": [
    "t=[1,2]\n",
    "t.append(3)\n",
    "t[1] = 5\n",
    "t"
   ]
  },
  {
   "cell_type": "code",
   "execution_count": 25,
   "id": "01ccadf6",
   "metadata": {},
   "outputs": [
    {
     "data": {
      "text/plain": [
       "(10, 20)"
      ]
     },
     "execution_count": 25,
     "metadata": {},
     "output_type": "execute_result"
    }
   ],
   "source": [
    "# tuple\n",
    "x = (10, 20) # immutable\n",
    "x\n",
    "\n",
    "# x[0] = 15 # This will raise an error"
   ]
  },
  {
   "cell_type": "code",
   "execution_count": 28,
   "id": "c4107166",
   "metadata": {},
   "outputs": [
    {
     "data": {
      "text/plain": [
       "{'apple', 'banana', 'cherry', 'orange'}"
      ]
     },
     "execution_count": 28,
     "metadata": {},
     "output_type": "execute_result"
    }
   ],
   "source": [
    "# set\n",
    "fruits_set = {'apple', 'banana', 'cherry', 'apple'}  # 'apple' will only appear once\n",
    "\n",
    "fruits_set.add('orange')  # Adding an element\n",
    "\n",
    "fruits_set\n"
   ]
  },
  {
   "cell_type": "code",
   "execution_count": null,
   "id": "7bce5a40",
   "metadata": {},
   "outputs": [],
   "source": [
    "# dictionary\n",
    "person = {'name': 'Alice', 'age': 30}\n",
    "\n"
   ]
  }
 ],
 "metadata": {
  "kernelspec": {
   "display_name": "Python 3",
   "language": "python",
   "name": "python3"
  },
  "language_info": {
   "codemirror_mode": {
    "name": "ipython",
    "version": 3
   },
   "file_extension": ".py",
   "mimetype": "text/x-python",
   "name": "python",
   "nbconvert_exporter": "python",
   "pygments_lexer": "ipython3",
   "version": "3.9.6"
  }
 },
 "nbformat": 4,
 "nbformat_minor": 5
}
